{
 "cells": [
  {
   "cell_type": "markdown",
   "metadata": {
    "id": "m2s4kN_QPQVe"
   },
   "source": [
    "# **REINFORCE**\n",
    "\n",
    "\n",
    "<hr>\n",
    "\n",
    "### **Part 7**: Reinforcement Learning (from Zero to One)\n",
    "\n",
    "*African Institute for Mathematical Sciences (AIMS), South Africa\n",
    "12 November, 2024*\n",
    "\n",
    "**Arnu Pretorius** - Staff Research Scientist, InstaDeep\n",
    "\n",
    "*Credits*: Adapted from Deep Learning Indaba 2022. Apache License 2.0.\n"
   ]
  },
  {
   "cell_type": "markdown",
   "metadata": {
    "id": "6EqhIg1odqg0"
   },
   "source": [
    "## Setup"
   ]
  },
  {
   "cell_type": "code",
   "execution_count": 1,
   "metadata": {
    "id": "4boGA9rYdt9l"
   },
   "outputs": [],
   "source": [
    "# @title Install required packages (run me) { display-mode: \"form\" }\n",
    "# @markdown This may take a minute or two to complete.\n",
    "%%capture\n",
    "!pip install jaxlib\n",
    "!pip install jax\n",
    "!pip install git+https://github.com/deepmind/dm-haiku\n",
    "!pip install gym==0.25\n",
    "!pip install gym[box2d]\n",
    "!pip install optax\n",
    "!pip install matplotlib\n",
    "!pip install chex"
   ]
  },
  {
   "cell_type": "code",
   "execution_count": 2,
   "metadata": {
    "id": "gwbqggmcRjMy"
   },
   "outputs": [],
   "source": [
    "# @title Import required packages (run me) { display-mode: \"form\" }\n",
    "%%capture\n",
    "import copy\n",
    "from shutil import rmtree # deleting directories\n",
    "import random\n",
    "import collections # useful data structures\n",
    "import numpy as np\n",
    "import gym # reinforcement learning environments\n",
    "from gym.wrappers import RecordVideo\n",
    "import jax\n",
    "import jax.numpy as jnp # jax numpy\n",
    "import haiku as hk # jax neural network library\n",
    "import optax # jax optimizer library\n",
    "import matplotlib.pyplot as plt # graph plotting library\n",
    "from IPython.display import HTML\n",
    "from base64 import b64encode\n",
    "import chex\n",
    "\n",
    "# Hide warnings\n",
    "import warnings\n",
    "warnings.filterwarnings('ignore')"
   ]
  },
  {
   "cell_type": "markdown",
   "metadata": {
    "id": "I07EfY1mxY_1"
   },
   "source": [
    "### **Environment (warm-up)**\n",
    "\n",
    "We will begin by using the simple **CartPole** environment. In CartPole, the task is for the agent to learn to balance a pole for as long as possible by moving a cart *left* or *right*.\n",
    "\n",
    "<img src=\"https://miro.medium.com/max/600/1*v8KcdjfVGf39yvTpXDTCGQ.gif\" width=\"30%\" />\n",
    "\n",
    "- **State space**: The state of the environment is represented by four numbers; *angular position of the pole, angular velocity of the pole, position of the cart, velocity of the cart*.\n",
    "- **Action space**: There are only two actions; *left* and *right*. As such, the actions can be represented by integers $0$ and $1$.  \n",
    "- **Dynamics**: State transitions are deterministic and the agent receives a reward of `1` for every timestep the pole is still upright. If the pole falls over, the game is over and the agent receives no more reward. The game is also over after `500` timesteps, so the maximum reward the agent can collect is `500`.\n",
    "\n",
    "In CartPole, the environment is considered solved when the agent can reliably achieve an episode return of 500."
   ]
  },
  {
   "cell_type": "code",
   "execution_count": 3,
   "metadata": {
    "colab": {
     "base_uri": "https://localhost:8080/"
    },
    "id": "eS7xm0rNxdHe",
    "outputId": "f99f3a98-e9c3-4b4c-be20-5e648d6eb933"
   },
   "outputs": [
    {
     "name": "stdout",
     "output_type": "stream",
     "text": [
      "Initial State:: [-0.00974485 -0.01017046 -0.02400044 -0.0205661 ]\n",
      "Environment Obs Space Shape: (4,)\n",
      "Environment action space: Discrete(2)\n",
      "Number of actions: 2\n"
     ]
    }
   ],
   "source": [
    "# Create the environment\n",
    "env_name = \"CartPole-v1\"  # \"LunarLander-v2\" (for later...)\n",
    "env = gym.make(env_name)\n",
    "\n",
    "# Reset the environment\n",
    "s_0 = env.reset()\n",
    "print(\"Initial State::\", s_0)\n",
    "\n",
    "# Get environment obs space\n",
    "obs_shape = env.observation_space.shape\n",
    "print(\"Environment Obs Space Shape:\", obs_shape)\n",
    "\n",
    "# Get action space - e.g. discrete or continuous\n",
    "print(f\"Environment action space: {env.action_space}\")\n",
    "\n",
    "# Get num actions\n",
    "num_actions = env.action_space.n\n",
    "print(f\"Number of actions: {num_actions}\")"
   ]
  },
  {
   "cell_type": "markdown",
   "metadata": {
    "id": "XEnSjZVESrxc"
   },
   "source": [
    "## **Policy Gradients (PG)**\n",
    "The goal in RL is to find a policy which maximise the expected cummulative reward (return) the agent receives from the environment. As shown in class, we have a wide array of algorithms depending on the representation of the return, denoted $Ψ$. In general then, we can write the RL objective as:\n",
    "\n",
    "$$J(\\pi_\\theta)=\\mathrm{E}_{\\tau\\sim\\pi_\\theta}\\ [Ψ(\\tau)],$$\n",
    "\n",
    "where $\\pi_\\theta$ is a policy parametrised by $\\theta$, $\\mathrm{E}$ means *expectation*, $\\tau$ is shorthand for \"*episode*\", $\\tau\\sim\\pi_\\theta$ is shorthand for \"*episodes sampled using the policy* $\\pi_\\theta$\", and $Ψ(\\tau)$ is a *representation* of the return of episode $\\tau$, which could simply be the return itself, i.e. $Ψ(\\tau) = G(\\tau)$.\n",
    "\n",
    "Then, the goal in RL is to find the parameters $\\theta$ that maximise the function $J(\\pi_\\theta)$. One way to find these parameters is to perform gradient *ascent* on $J(\\pi_\\theta)$ with respect to the parameters $\\theta$:\n",
    "\n",
    "$$\\theta_{k+1}=\\theta_k + \\alpha \\nabla J(\\pi_\\theta)|_{\\theta_{k}},$$\n",
    "\n",
    "where $\\nabla J(\\pi_\\theta)|_{\\theta_{k}}$ is the gradient of the expected return with respect to the policy parameters $\\theta_k$ and $\\alpha$ is the step size. This quantity, $\\nabla J(\\pi_\\theta)$, is also called the **policy gradient** and is very important in RL. If we can compute the policy gradient, then we will have a means by which to directly optimise our policy.\n",
    "\n",
    "As it turns out, as we saw in class, we can compute the policy gradient as follows:\n",
    "\n",
    "\n",
    "$$\\nabla_{\\theta} J(\\pi_{\\theta})=\\underset{\\tau \\sim \\pi_{\\theta}}{\\mathrm{E}}[\\sum_{t=0}^{T} Ψ_t \\nabla_{\\theta} \\log \\pi_{\\theta}(a_{t} \\mid s_{t})]$$\n",
    "\n",
    "Informaly, the policy gradient is equal to the gradient of the log of the probability of the action chosen, multiplied by the (estimated) return of the episode in which the action was taken.\n"
   ]
  },
  {
   "cell_type": "markdown",
   "metadata": {
    "id": "BTnTzgtSuy-y"
   },
   "source": [
    "### **REINFORCE**\n",
    "REINFORCE is a simple RL algorithm that uses the policy gradient to find the optimal policy by increasing the probability of choosing actions (reinforcing actions) that tend to lead to high return, as computed directly by $G(\\tau)$.\n",
    "\n",
    "---\n",
    "> **For you!**\n",
    ">\n",
    "> Implement a function that takes the probability of an action and the return of the episode the action was taken in and computes the log of the probability, multiplied by the return.\n",
    "---\n",
    "\n",
    "**Useful functions:**\n",
    "*   `jnp.log`([docs](https://jax.readthedocs.io/en/latest/_autosummary/jax.numpy.log.html)) [Note: we have `import jax.numpy as jnp`]"
   ]
  },
  {
   "cell_type": "code",
   "execution_count": 4,
   "metadata": {
    "id": "bJObUsoUrOyV"
   },
   "outputs": [],
   "source": [
    "def compute_weighted_log_prob(action_prob, episode_return):\n",
    "\n",
    "    # YOUR CODE\n",
    "\n",
    "    log_porb = jnp.log(action_prob)\n",
    "\n",
    "    weighted_log_prob = log_porb * episode_return\n",
    "\n",
    "    # END YOUR CODE\n",
    "\n",
    "    return weighted_log_prob"
   ]
  },
  {
   "cell_type": "code",
   "execution_count": 5,
   "metadata": {
    "colab": {
     "base_uri": "https://localhost:8080/"
    },
    "id": "eZPoTwa1Gbm1",
    "outputId": "2b739cea-12ca-4e1b-bf21-c93ec939639c"
   },
   "outputs": [
    {
     "name": "stdout",
     "output_type": "stream",
     "text": [
      "Looks good!\n"
     ]
    }
   ],
   "source": [
    "#@title Check your implementation (run me) {display-mode: \"form\"}\n",
    "\n",
    "try:\n",
    "  action_prob = 0.8\n",
    "  episode_return = 100\n",
    "  result = compute_weighted_log_prob(action_prob, episode_return)\n",
    "  if result != -22.314354:\n",
    "    print(\"Oops! Your implementation looks incorrect.\")\n",
    "  else:\n",
    "    print(\"Looks good!\")\n",
    "except Exception as e:\n",
    "    print(\"Oops! Your implementation looks incorrect.\")"
   ]
  },
  {
   "cell_type": "markdown",
   "metadata": {
    "id": "NmgW9UJ3tIpl"
   },
   "source": [
    "### **Return**\n",
    "\n",
    "---\n",
    "> **For you!**\n",
    ">\n",
    "> Implement a function that takes a list of all the rewards obtained in an episode and computes the return for each step.\n",
    "---"
   ]
  },
  {
   "cell_type": "code",
   "execution_count": 6,
   "metadata": {
    "id": "nV1Hww8E3dUJ"
   },
   "outputs": [],
   "source": [
    "def compute_returns(rewards, gamma=0.99):\n",
    "    \"\"\"\n",
    "    This function should take a list of rewards as input and\n",
    "    compute the return for each timestep.\n",
    "\n",
    "    EXAMPLE: compute_returns([1,2,3,4]) = [10, 9, 7, 4], if gamma=1\n",
    "\n",
    "    Arguments:\n",
    "        rewards[t]: is the reward at time step t.\n",
    "        gamma: discount factor\n",
    "\n",
    "    -- IMPORTANT: use the default discount to check your implementation\n",
    "\n",
    "    Returns:\n",
    "        returns[t] should be the return at timestep t.\n",
    "    \"\"\"\n",
    "\n",
    "    returns = rewards\n",
    "    length = len(returns)\n",
    "    for i in range(length,0,-1):\n",
    "      if i == len(returns):\n",
    "        continue\n",
    "      else:\n",
    "        returns[i-1] = returns[i-1] + (returns[i] * gamma )\n",
    "    # YOUR CODE\n",
    "\n",
    "\n",
    "    # END YOUR CODE\n",
    "\n",
    "    return returns"
   ]
  },
  {
   "cell_type": "code",
   "execution_count": 7,
   "metadata": {
    "colab": {
     "base_uri": "https://localhost:8080/"
    },
    "id": "lhU3h5HioDJ4",
    "outputId": "431d6c57-502a-4e64-a4f1-7348c668b03b"
   },
   "outputs": [
    {
     "data": {
      "text/plain": [
       "[9.801496, 8.8904, 6.96, 4]"
      ]
     },
     "execution_count": 7,
     "metadata": {},
     "output_type": "execute_result"
    }
   ],
   "source": [
    "compute_returns([1,2,3,4])"
   ]
  },
  {
   "cell_type": "code",
   "execution_count": 8,
   "metadata": {
    "colab": {
     "base_uri": "https://localhost:8080/"
    },
    "id": "hLVaVRp28YGI",
    "outputId": "e0f42aae-50f2-451b-8de9-c645111a5033"
   },
   "outputs": [
    {
     "name": "stdout",
     "output_type": "stream",
     "text": [
      "Looks good!\n"
     ]
    }
   ],
   "source": [
    "#@title Check your implementation (run me) {display-mode: \"form\"}\n",
    "\n",
    "try:\n",
    "  result = compute_returns([1,2,3,4])\n",
    "\n",
    "  if result != [9.801496, 8.8904, 6.96, 4.0]:\n",
    "    print(\"Oops! Your implementation looks incorrect.\")\n",
    "  else:\n",
    "    print(\"Looks good!\")\n",
    "except Exception as e:\n",
    "    print(\"Oops! Your implementation looks incorrect.\")\n"
   ]
  },
  {
   "cell_type": "markdown",
   "metadata": {
    "id": "IboxN9MS65i5"
   },
   "source": [
    "### **REINFORCE memory**\n",
    "Next we will need to make a new agent memory to store the returns $G_t$ along with the observation $o_t$ and action $a_t$ at every timestep. Below we implemented such a memory module for you. The function `memory.sample()` will return a batch of the last 500 memories. You are welcome to read through the code to try and understand it, but it is not required. Therefore, we hide the code by default."
   ]
  },
  {
   "cell_type": "code",
   "execution_count": 9,
   "metadata": {
    "id": "xhS4V6auRjM3"
   },
   "outputs": [],
   "source": [
    "# @title Memory implementation (run me) {display-mode: \"form\"}\n",
    "\n",
    "# NamedTuple to store memory\n",
    "EpisodeReturnsMemory = collections.namedtuple(\"EpisodeReturnsMemory\", [\"obs\", \"action\", \"returns\"])\n",
    "\n",
    "class EpisodeReturnsBuffer:\n",
    "\n",
    "    def __init__(self, num_transitions_to_store=512, batch_size=256):\n",
    "        self.batch_size = batch_size\n",
    "        self.memory_buffer = collections.deque(maxlen=num_transitions_to_store)\n",
    "        self.current_episode_transition_buffer = []\n",
    "\n",
    "    def push(self, transition):\n",
    "        self.current_episode_transition_buffer.append(transition)\n",
    "\n",
    "        if transition.done:\n",
    "\n",
    "            episode_rewards = []\n",
    "            for t in self.current_episode_transition_buffer:\n",
    "                episode_rewards.append(t.reward)\n",
    "\n",
    "            G = compute_returns(episode_rewards)\n",
    "\n",
    "            for i, t in enumerate(self.current_episode_transition_buffer):\n",
    "                memory = EpisodeReturnsMemory(t.obs, t.action, G[i])\n",
    "                self.memory_buffer.append(memory)\n",
    "\n",
    "            # Reset episode buffer\n",
    "            self.current_episode_transition_buffer = []\n",
    "\n",
    "\n",
    "    def is_ready(self):\n",
    "        return len(self.memory_buffer) >= self.batch_size\n",
    "\n",
    "    def sample(self):\n",
    "        random_memory_sample = random.sample(self.memory_buffer, self.batch_size)\n",
    "\n",
    "        obs_batch, action_batch, returns_batch = zip(*random_memory_sample)\n",
    "\n",
    "        return EpisodeReturnsMemory(\n",
    "            np.stack(obs_batch).astype(\"float32\"),\n",
    "            np.asarray(action_batch).astype(\"int32\"),\n",
    "            np.asarray(returns_batch).astype(\"int32\")\n",
    "        )\n",
    "\n",
    "\n",
    "# Instantiate Memory\n",
    "REINFORCE_memory = EpisodeReturnsBuffer(num_transitions_to_store=512, batch_size=256)"
   ]
  },
  {
   "cell_type": "markdown",
   "metadata": {
    "id": "Idkav_aSYXvz"
   },
   "source": [
    "### **Policy neural network**\n",
    "Next, we will use a simple neural network to aproximate the policy. Our policy neural network will have an input layer that takes the observation as input and passes it through two hidden layers and then outputs one scalar value for each of the possible actions. So, in CartPole the output layer will have size `2`.\n",
    "\n",
    "[Haiku](https://github.com/deepmind/dm-haiku) is a library for implementing neural networks is JAX. Below we have implemented a simple function to make the policy network for you.\n"
   ]
  },
  {
   "cell_type": "code",
   "execution_count": 10,
   "metadata": {
    "id": "j2XO7VkORjM4"
   },
   "outputs": [],
   "source": [
    "def make_policy_network(num_actions: int, layers=[20, 20]) -> hk.Transformed:\n",
    "  \"\"\"Factory for a simple MLP network for the policy.\"\"\"\n",
    "\n",
    "  def policy_network(obs):\n",
    "    network = hk.Sequential(\n",
    "        [\n",
    "            hk.Flatten(),\n",
    "            hk.nets.MLP(layers + [num_actions])\n",
    "        ]\n",
    "    )\n",
    "    return network(obs)\n",
    "\n",
    "  return hk.without_apply_rng(hk.transform(policy_network))"
   ]
  },
  {
   "cell_type": "markdown",
   "metadata": {
    "id": "1GR2y8FjaG-G"
   },
   "source": [
    "Haiku networks have two important functions you need to know about. The first is the `network.init(<random_key>, <input>)`, which returns a set of random initial parameters. The second method is the `network.apply(<params>, <input>)` which passes an input through the network using the set of parameters provided."
   ]
  },
  {
   "cell_type": "code",
   "execution_count": 11,
   "metadata": {
    "colab": {
     "base_uri": "https://localhost:8080/"
    },
    "id": "fJrn9o-Vatkw",
    "outputId": "487b021d-005f-49fd-cb99-fa0bd91fc43c"
   },
   "outputs": [
    {
     "name": "stdout",
     "output_type": "stream",
     "text": [
      "Initial params: dict_keys(['mlp/~/linear_0', 'mlp/~/linear_1', 'mlp/~/linear_2'])\n",
      "Policy network output: [ 0.91155875 -0.3961737 ]\n"
     ]
    }
   ],
   "source": [
    "# Example\n",
    "POLICY_NETWORK = make_policy_network(num_actions=num_actions, layers=[20,20])\n",
    "random_key = jax.random.PRNGKey(42) # random key\n",
    "dummy_obs = np.ones(obs_shape, \"float32\")\n",
    "\n",
    "# Initialise parameters\n",
    "REINFORCE_params = POLICY_NETWORK.init(random_key, dummy_obs)\n",
    "print(\"Initial params:\", REINFORCE_params.keys())\n",
    "\n",
    "# Pass input through the network\n",
    "output = POLICY_NETWORK.apply(REINFORCE_params, dummy_obs)\n",
    "print(\"Policy network output:\", output)\n"
   ]
  },
  {
   "cell_type": "markdown",
   "metadata": {
    "id": "MlouUBvoeunz"
   },
   "source": [
    "The outputs of our policy network are [logits](https://qr.ae/pv4YTe). To convert this into a probability distribution over actions we pass the logits to the [softmax](https://en.wikipedia.org/wiki/Softmax_function) function.\n",
    "\n",
    "### **REINFORCE action selector**\n",
    "\n",
    "---\n",
    "> **For you!**\n",
    ">\n",
    "> Complete the function below which takes a vector of logits and randomly samples an action from a categorical distibution given by the logits.\n",
    "---\n",
    "\n",
    "**Useful functions:**\n",
    "*   `jax.random.categorical` ([docs](https://jax.readthedocs.io/en/latest/_autosummary/jax.random.categorical.html))"
   ]
  },
  {
   "cell_type": "code",
   "execution_count": 12,
   "metadata": {
    "id": "m3Z8DxUmeOGJ"
   },
   "outputs": [],
   "source": [
    "def sample_action(random_key, logits):\n",
    "\n",
    "  # YOUR CODE HERE\n",
    "  action = jax.random.categorical(random_key,logits)\n",
    "\n",
    "  # END YOUR code\n",
    "\n",
    "  return action"
   ]
  },
  {
   "cell_type": "code",
   "execution_count": 13,
   "metadata": {
    "colab": {
     "base_uri": "https://localhost:8080/"
    },
    "id": "5opHJMO0D_Ub",
    "outputId": "37b5dbbb-861e-46e7-ee18-5ef688feee3e"
   },
   "outputs": [
    {
     "name": "stdout",
     "output_type": "stream",
     "text": [
      "Looks good!\n"
     ]
    }
   ],
   "source": [
    "#@title Check your implementation (run me) {display-mode: \"form\"}\n",
    "\n",
    "try:\n",
    "  random_key = jax.random.PRNGKey(42) # random key\n",
    "  action = sample_action(random_key, np.array([1,2], \"float32\"))\n",
    "  if action != 1:\n",
    "    print(\"Oops! Your implementation looks incorrect.\")\n",
    "  else:\n",
    "    print(\"Looks good!\")\n",
    "except Exception as e:\n",
    "    print(\"Oops! Your implementation looks incorrect.\")"
   ]
  },
  {
   "cell_type": "markdown",
   "metadata": {
    "id": "jP5UH87VRjM4"
   },
   "source": [
    "Now we can implement the `REINFORCE_choose_action` function. We will pass the observation through the policy network to compute the logits and then pass the logits to the `sample_action` function to choose and action."
   ]
  },
  {
   "cell_type": "code",
   "execution_count": 14,
   "metadata": {
    "id": "UJTzrDAZ0Ul5"
   },
   "outputs": [],
   "source": [
    "def REINFORCE_choose_action(key, params, actor_state, obs, evaluation=False):\n",
    "  obs = jnp.expand_dims(obs, axis=0) # add dummy batch dim before passing through network\n",
    "\n",
    "  # Pass obs through policy network to compute logits\n",
    "  logits = POLICY_NETWORK.apply(params, obs)\n",
    "  logits = logits[0] # remove batch dim\n",
    "\n",
    "  # Randomly sample action\n",
    "  sampled_action = sample_action(key, logits)\n",
    "\n",
    "  return sampled_action, actor_state"
   ]
  },
  {
   "cell_type": "markdown",
   "metadata": {
    "id": "NI26SLAb7iRo"
   },
   "source": [
    "Now that we have  implemented the `REINFORCE_choose_action` function, all we have left to do is to make a `REINFORCE_learn` function. The learn function should use the `weighted_log_prob` function we made earlier to compute the policy gradient loss and apply the gradient updates to our neural network."
   ]
  },
  {
   "cell_type": "markdown",
   "metadata": {
    "id": "36ALCJESQJ8e"
   },
   "source": [
    "### **Policy gradient loss**\n",
    "\n",
    "---\n",
    "> **For you!**\n",
    ">\n",
    "> Complete the `policy_gradient_loss` function below. The function should compute the action probabilities by passing the `logits` through the softmax function. Then you should extract the probability of the given `action` (using array indexing) and compute the `weighted_log_prob` using the function we made earlier.\n",
    "---\n",
    "\n",
    "**Useful methods:**\n",
    "*   `jax.nn.softmax` ([docs](https://jax.readthedocs.io/en/latest/_autosummary/jax.nn.softmax.html))"
   ]
  },
  {
   "cell_type": "code",
   "execution_count": 15,
   "metadata": {
    "id": "9sUKkqx0RjM4"
   },
   "outputs": [],
   "source": [
    "def policy_gradient_loss(action, logits, returns):\n",
    "\n",
    "  # YOUR CODE\n",
    "\n",
    "  all_action_probs = jax.nn.softmax(logits) # convert logits into probs\n",
    "\n",
    "  action_prob = all_action_probs[action]  # using array indexing to get prob of action\n",
    "\n",
    "  weighted_log_prob = compute_weighted_log_prob(action_prob, returns)\n",
    "\n",
    "  # END YOUR CODE\n",
    "\n",
    "  loss = - weighted_log_prob # negative because we want gradient `ascent`\n",
    "\n",
    "  return loss"
   ]
  },
  {
   "cell_type": "code",
   "execution_count": 16,
   "metadata": {
    "colab": {
     "base_uri": "https://localhost:8080/"
    },
    "id": "7AMJvau1FsM5",
    "outputId": "dac1604d-f390-43b5-d8a6-39eafc9749fc"
   },
   "outputs": [
    {
     "name": "stdout",
     "output_type": "stream",
     "text": [
      "Looks good!\n"
     ]
    }
   ],
   "source": [
    "#@title Check your implementation (run me) {display-mode: \"form\"}\n",
    "\n",
    "try:\n",
    "  result = policy_gradient_loss(1, np.array([1,2], \"float32\"), 10)\n",
    "  if result != 3.1326165:\n",
    "    print(\"Oops! Your implementation looks incorrect.\")\n",
    "  else:\n",
    "    print(\"Looks good!\")\n",
    "except Exception as e:\n",
    "  print(\"Oops! Your implementation looks incorrect.\")\n"
   ]
  },
  {
   "cell_type": "markdown",
   "metadata": {
    "id": "Gzuqx1jJrwVx"
   },
   "source": [
    "When we do a policy gradient update step we are going to want to do it using a batch of experience, rather than just a single experience like above. We can use JAX's [vmap](https://jax.readthedocs.io/en/latest/_autosummary/jax.vmap.html#jax.vmap) function to easily make our `policy_gradient_loss` function work on a batch of experience."
   ]
  },
  {
   "cell_type": "code",
   "execution_count": 17,
   "metadata": {
    "colab": {
     "base_uri": "https://localhost:8080/"
    },
    "id": "3yq4naLURjM4",
    "outputId": "774ae8d2-27b6-4609-a50f-3183d4b64309"
   },
   "outputs": [
    {
     "name": "stdout",
     "output_type": "stream",
     "text": [
      "Policy gradient loss on batch: 1.6967314\n"
     ]
    }
   ],
   "source": [
    "def batched_policy_gradient_loss(params, obs_batch, action_batch, returns_batch):\n",
    "    # Get logits by passing observation through network\n",
    "    logits_batch = POLICY_NETWORK.apply(params, obs_batch)\n",
    "\n",
    "    policy_gradient_loss_batch = jax.vmap(policy_gradient_loss)(action_batch, logits_batch, returns_batch) # add batch\n",
    "\n",
    "    # Compute mean loss over batch\n",
    "    mean_policy_gradient_loss = jnp.mean(policy_gradient_loss_batch)\n",
    "\n",
    "    return mean_policy_gradient_loss\n",
    "\n",
    "# TEST\n",
    "obs_batch = np.ones((3, *obs_shape), \"float32\")\n",
    "actions_batch = np.array([1,0,0])\n",
    "returns_batch = np.array([2.3, 4.3, 2.1])\n",
    "\n",
    "loss = batched_policy_gradient_loss(REINFORCE_params, obs_batch, actions_batch, returns_batch)\n",
    "\n",
    "print(\"Policy gradient loss on batch:\", loss)"
   ]
  },
  {
   "cell_type": "markdown",
   "metadata": {
    "id": "VDhTH3culwqo"
   },
   "source": [
    "### **Network Optimiser**\n",
    "\n",
    "To apply policy gradient updates to our neural network we will use a JAX library called [Optax](https://github.com/deepmind/optax). Optax has an implementation of the [Adam optimizer](https://www.geeksforgeeks.org/intuition-of-adam-optimizer/) which we can use."
   ]
  },
  {
   "cell_type": "code",
   "execution_count": 18,
   "metadata": {
    "id": "pxXINlMHP5Ic"
   },
   "outputs": [],
   "source": [
    "REINFORCE_OPTIMIZER = optax.adam(1e-3)\n",
    "\n",
    "# Initialise the optimiser\n",
    "REINFORCE_optim_state = REINFORCE_OPTIMIZER.init(REINFORCE_params)"
   ]
  },
  {
   "cell_type": "markdown",
   "metadata": {
    "id": "ViENrHOALbCw"
   },
   "source": [
    "Now we have everything we need tp make the `REINFORCE_learn` function. We will store the state of the optimiser in the `learn_state`. We will compute the gradient of the policy gradient loss by using `jax.grad` ([docs](https://jax.readthedocs.io/en/latest/_autosummary/jax.grad.html))."
   ]
  },
  {
   "cell_type": "code",
   "execution_count": 19,
   "metadata": {
    "id": "CQr2Uz5ORjM5"
   },
   "outputs": [],
   "source": [
    "# A NamedTuple to store the state of the optimiser\n",
    "REINFORCELearnState = collections.namedtuple(\"LearnerState\", [\"optim_state\"])\n",
    "\n",
    "\n",
    "def REINFORCE_learn(key, params, learner_state, memory):\n",
    "\n",
    "  # Get the policy gradient by using `jax.grad()` on `batched_policy_gradient_loss`\n",
    "  grad_loss = jax.grad(batched_policy_gradient_loss)(params, memory.obs, memory.action, memory.returns)\n",
    "\n",
    "  # Get param updates using gradient and optimizer\n",
    "  updates, new_optim_state = REINFORCE_OPTIMIZER.update(grad_loss, learner_state.optim_state)\n",
    "\n",
    "  # Apply updates to params\n",
    "  params = optax.apply_updates(params, updates)\n",
    "\n",
    "  return params, REINFORCELearnState(new_optim_state) # update learner state"
   ]
  },
  {
   "cell_type": "markdown",
   "metadata": {
    "id": "4yHI6H9q0BKf"
   },
   "source": [
    "### **RL Training Loop**\n",
    "As before, we provide the general RL training loop for you."
   ]
  },
  {
   "cell_type": "code",
   "execution_count": 20,
   "metadata": {
    "id": "UDUbuJr30XN6"
   },
   "outputs": [],
   "source": [
    "#@title Training loop (run me) { display-mode: \"form\" }\n",
    "\n",
    "# NamedTuple to store transitions\n",
    "Transition = collections.namedtuple(\"Transition\", [\"obs\", \"action\", \"reward\", \"next_obs\", \"done\"])\n",
    "\n",
    "# Training Loop\n",
    "def run_training_loop(env_name, agent_params, agent_select_action_func,\n",
    "    agent_actor_state=None, agent_learn_func=None, agent_learner_state=None,\n",
    "    agent_memory=None, num_episodes=1000, evaluator_period=100,\n",
    "    evaluation_episodes=8, learn_steps_per_episode=1,\n",
    "    train_every_timestep=False, video_subdir=\"\",):\n",
    "    \"\"\"\n",
    "    This function runs several episodes in an environment and periodically does\n",
    "    some agent learning and evaluation.\n",
    "\n",
    "    Args:\n",
    "        env: a gym environment.\n",
    "        agent_params: an object to store parameters that the agent uses.\n",
    "        agent_select_func: a function that does action selection for the agent.\n",
    "        agent_actor_state (optional): an object that stores the internal state\n",
    "            of the agents action selection function.\n",
    "        agent_learn_func (optional): a function that does some learning for the\n",
    "            agent by updating the agent parameters.\n",
    "        agent_learn_state (optional): an object that stores the internal state\n",
    "            of the agent learn function.\n",
    "        agent_memory (optional): an object for storing an retrieving historical\n",
    "            experience.\n",
    "        num_episodes: how many episodes to run.\n",
    "        evaluator_period: how often to run evaluation.\n",
    "        evaluation_episodes: how many evaluation episodes to run.\n",
    "        train_every_timestep: whether to train every timestep rather than at the end\n",
    "            of the episode.\n",
    "        video_subdir: subdirectory to store epsiode recordings.\n",
    "\n",
    "    Returns:\n",
    "        episode_returns: list of all the episode returns.\n",
    "        evaluator_episode_returns: list of all the evaluator episode returns.\n",
    "    \"\"\"\n",
    "\n",
    "    # Setup Cartpole environment and recorder\n",
    "    env = gym.make(env_name, render_mode=\"rgb_array\") # training environment\n",
    "    eval_env = gym.make(env_name, render_mode=\"rgb_array\") # evaluation environment\n",
    "\n",
    "    # Video dir\n",
    "    video_dir = \"./video\"+\"/\"+video_subdir\n",
    "\n",
    "    # Clear video dir\n",
    "    try:\n",
    "      rmtree(video_dir)\n",
    "    except:\n",
    "      pass\n",
    "\n",
    "    # Wrap in recorder\n",
    "    env = RecordVideo(env, video_dir+\"/train\", episode_trigger=lambda x: (x % evaluator_period) == 0)\n",
    "    eval_env = RecordVideo(eval_env, video_dir+\"/eval\", episode_trigger=lambda x: (x % evaluation_episodes) == 0)\n",
    "\n",
    "    # JAX random number generator\n",
    "    rng = hk.PRNGSequence(jax.random.PRNGKey(0))\n",
    "    env.seed(0) # seed environment for reproducability\n",
    "    random.seed(0)\n",
    "\n",
    "    episode_returns = [] # List to store history of episode returns.\n",
    "    evaluator_episode_returns = [] # List to store history of evaluator returns.\n",
    "    timesteps = 0\n",
    "    for episode in range(num_episodes):\n",
    "\n",
    "        # Reset environment.\n",
    "        obs = env.reset()\n",
    "        episode_return = 0\n",
    "        done = False\n",
    "\n",
    "        while not done:\n",
    "\n",
    "            # Agent select action.\n",
    "            action, agent_actor_state = agent_select_action_func(\n",
    "                                            next(rng),\n",
    "                                            agent_params,\n",
    "                                            agent_actor_state,\n",
    "                                            np.array(obs)\n",
    "                                        )\n",
    "\n",
    "            # Step environment.\n",
    "            next_obs, reward, done, _ = env.step(int(action))\n",
    "\n",
    "            # Pack into transition.\n",
    "            transition = Transition(obs, action, reward, next_obs, done)\n",
    "\n",
    "            # Add transition to memory.\n",
    "            if agent_memory: # check if agent has memory\n",
    "              agent_memory.push(transition)\n",
    "\n",
    "            # Add reward to episode return.\n",
    "            episode_return += reward\n",
    "\n",
    "            # Set obs to next obs before next environment step. CRITICAL!!!\n",
    "            obs = next_obs\n",
    "\n",
    "            # Increment timestep counter\n",
    "            timesteps += 1\n",
    "\n",
    "            # Maybe learn every timestep\n",
    "            if train_every_timestep and (timesteps % 4 == 0) and agent_memory and agent_memory.is_ready(): # Make sure memory is ready\n",
    "                # First sample memory and then pass the result to the learn function\n",
    "                memory = agent_memory.sample()\n",
    "                agent_params, agent_learner_state = agent_learn_func(\n",
    "                                                        next(rng),\n",
    "                                                        agent_params,\n",
    "                                                        agent_learner_state,\n",
    "                                                        memory\n",
    "                                                    )\n",
    "\n",
    "        episode_returns.append(episode_return)\n",
    "\n",
    "        # At the end of every episode we do a learn step.\n",
    "        if agent_memory and agent_memory.is_ready(): # Make sure memory is ready\n",
    "\n",
    "            for _ in range(learn_steps_per_episode):\n",
    "                # First sample memory and then pass the result to the learn function\n",
    "                memory = agent_memory.sample()\n",
    "                agent_params, agent_learner_state = agent_learn_func(\n",
    "                                                        next(rng),\n",
    "                                                        agent_params,\n",
    "                                                        agent_learner_state,\n",
    "                                                        memory\n",
    "                                                    )\n",
    "\n",
    "        if (episode % evaluator_period) == 0: # Do evaluation\n",
    "\n",
    "            evaluator_episode_return = 0\n",
    "            for eval_episode in range(evaluation_episodes):\n",
    "                obs = eval_env.reset()\n",
    "                done = False\n",
    "                while not done:\n",
    "                    action, _ = agent_select_action_func(\n",
    "                                    next(rng),\n",
    "                                    agent_params,\n",
    "                                    agent_actor_state,\n",
    "                                    np.array(obs),\n",
    "                                    evaluation=True\n",
    "                                )\n",
    "\n",
    "                    obs, reward, done, _ = eval_env.step(int(action))\n",
    "\n",
    "                    evaluator_episode_return += reward\n",
    "\n",
    "            evaluator_episode_return /= evaluation_episodes\n",
    "\n",
    "            evaluator_episode_returns.append(evaluator_episode_return)\n",
    "\n",
    "            logs = [\n",
    "                    f\"Episode: {episode}\",\n",
    "                    f\"Episode Return: {episode_return}\",\n",
    "                    f\"Average Episode Return: {np.mean(episode_returns[-20:])}\",\n",
    "                    f\"Evaluator Episode Return: {evaluator_episode_return}\"\n",
    "            ]\n",
    "\n",
    "            print(*logs, sep=\"\\t\") # Print the logs\n",
    "\n",
    "    env.close()\n",
    "    eval_env.close()\n",
    "\n",
    "    return episode_returns, evaluator_episode_returns"
   ]
  },
  {
   "cell_type": "markdown",
   "metadata": {
    "id": "5an3U2NhRKgG"
   },
   "source": [
    "### **REINFORCE training loop**\n",
    "Now we can train our REINFORCE agent by putting everything together using the training loop."
   ]
  },
  {
   "cell_type": "code",
   "execution_count": 21,
   "metadata": {
    "id": "8RS6ZNpJ0jNv"
   },
   "outputs": [],
   "source": [
    "# JIT the choose_action and learn functions for more speed\n",
    "REINFORCE_learn_jit = jax.jit(REINFORCE_learn)\n",
    "REINFORCE_choose_action_jit = jax.jit(REINFORCE_choose_action)"
   ]
  },
  {
   "cell_type": "code",
   "execution_count": 22,
   "metadata": {
    "colab": {
     "base_uri": "https://localhost:8080/",
     "height": 937
    },
    "id": "vioIcVGsRjM5",
    "outputId": "9644cba4-460e-41ab-acb5-fb440f8f9548"
   },
   "outputs": [
    {
     "name": "stdout",
     "output_type": "stream",
     "text": [
      "Starting training. This may take a few minutes to complete.\n",
      "Episode: 0\tEpisode Return: 12.0\tAverage Episode Return: 12.0\tEvaluator Episode Return: 17.25\n",
      "Episode: 100\tEpisode Return: 111.0\tAverage Episode Return: 65.65\tEvaluator Episode Return: 116.875\n",
      "Episode: 200\tEpisode Return: 256.0\tAverage Episode Return: 205.45\tEvaluator Episode Return: 222.25\n",
      "Episode: 300\tEpisode Return: 35.0\tAverage Episode Return: 228.05\tEvaluator Episode Return: 242.5\n",
      "Episode: 400\tEpisode Return: 121.0\tAverage Episode Return: 166.95\tEvaluator Episode Return: 115.875\n",
      "Episode: 500\tEpisode Return: 143.0\tAverage Episode Return: 112.75\tEvaluator Episode Return: 155.25\n",
      "Episode: 600\tEpisode Return: 201.0\tAverage Episode Return: 227.75\tEvaluator Episode Return: 237.0\n",
      "Episode: 700\tEpisode Return: 313.0\tAverage Episode Return: 280.35\tEvaluator Episode Return: 376.875\n",
      "Episode: 800\tEpisode Return: 500.0\tAverage Episode Return: 469.65\tEvaluator Episode Return: 496.25\n",
      "Episode: 900\tEpisode Return: 500.0\tAverage Episode Return: 383.25\tEvaluator Episode Return: 492.625\n",
      "Episode: 1000\tEpisode Return: 209.0\tAverage Episode Return: 239.6\tEvaluator Episode Return: 238.75\n",
      "Episode: 1100\tEpisode Return: 118.0\tAverage Episode Return: 170.0\tEvaluator Episode Return: 245.375\n",
      "Episode: 1200\tEpisode Return: 500.0\tAverage Episode Return: 406.5\tEvaluator Episode Return: 431.0\n",
      "Episode: 1300\tEpisode Return: 304.0\tAverage Episode Return: 292.1\tEvaluator Episode Return: 290.5\n",
      "Episode: 1400\tEpisode Return: 500.0\tAverage Episode Return: 457.75\tEvaluator Episode Return: 500.0\n",
      "Episode: 1500\tEpisode Return: 500.0\tAverage Episode Return: 435.65\tEvaluator Episode Return: 459.625\n",
      "Episode: 1600\tEpisode Return: 500.0\tAverage Episode Return: 355.6\tEvaluator Episode Return: 500.0\n",
      "Episode: 1700\tEpisode Return: 500.0\tAverage Episode Return: 466.9\tEvaluator Episode Return: 444.875\n",
      "Episode: 1800\tEpisode Return: 258.0\tAverage Episode Return: 263.65\tEvaluator Episode Return: 270.75\n",
      "Episode: 1900\tEpisode Return: 425.0\tAverage Episode Return: 314.2\tEvaluator Episode Return: 409.25\n",
      "Episode: 2000\tEpisode Return: 500.0\tAverage Episode Return: 478.65\tEvaluator Episode Return: 500.0\n",
      "Episode: 2100\tEpisode Return: 500.0\tAverage Episode Return: 500.0\tEvaluator Episode Return: 500.0\n",
      "Episode: 2200\tEpisode Return: 500.0\tAverage Episode Return: 480.15\tEvaluator Episode Return: 500.0\n",
      "Episode: 2300\tEpisode Return: 500.0\tAverage Episode Return: 500.0\tEvaluator Episode Return: 500.0\n",
      "Episode: 2400\tEpisode Return: 500.0\tAverage Episode Return: 500.0\tEvaluator Episode Return: 500.0\n"
     ]
    },
    {
     "data": {
      "image/png": "[encoded data removed]",
      "text/plain": [
       "<Figure size 640x480 with 1 Axes>"
      ]
     },
     "metadata": {},
     "output_type": "display_data"
    }
   ],
   "source": [
    "# Initial learn state\n",
    "REINFORCE_learn_state = REINFORCELearnState(REINFORCE_optim_state)\n",
    "\n",
    "# Run training loop\n",
    "print(\"Starting training. This may take a few minutes to complete.\")\n",
    "episode_returns, evaluator_returns = run_training_loop(\n",
    "                                        env_name,\n",
    "                                        REINFORCE_params,\n",
    "                                        REINFORCE_choose_action_jit,\n",
    "                                        None, # action state not used\n",
    "                                        REINFORCE_learn_jit,\n",
    "                                        REINFORCE_learn_state,\n",
    "                                        REINFORCE_memory,\n",
    "                                        num_episodes=2500,\n",
    "                                        learn_steps_per_episode=2,\n",
    "                                        video_subdir=\"reinforce\"\n",
    "                                      )\n",
    "\n",
    "# Plot the episode returns\n",
    "plt.plot(episode_returns)\n",
    "plt.xlabel(\"Episode\")\n",
    "plt.ylabel(\"Episode Return\")\n",
    "plt.title(\"REINFORCE\")\n",
    "plt.show()\n"
   ]
  },
  {
   "cell_type": "code",
   "execution_count": 30,
   "metadata": {
    "colab": {
     "base_uri": "https://localhost:8080/",
     "height": 288
    },
    "id": "caKL3ngNr_Yh",
    "outputId": "e85491a4-3a21-4cce-a5f0-c2218b4d6385"
   },
   "outputs": [
    {
     "data": {
      "text/html": [
       "\n",
       "<video width=400 controls>\n",
       "      <source src=\"data:video/mp4;base64,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\" type=\"video/mp4\">\n",
       "</video>\n"
      ],
      "text/plain": [
       "<IPython.core.display.HTML object>"
      ]
     },
     "execution_count": 30,
     "metadata": {},
     "output_type": "execute_result"
    }
   ],
   "source": [
    "#@title Visualise Policy {display-mode: \"form\"}\n",
    "#@markdown Choose an episode number that is a multiple of 100, and **run this cell**.\n",
    "\n",
    "episode_number = 2400 #@param {type:\"number\"}\n",
    "\n",
    "assert (episode_number % 100) == 0, \"Episode number must be a multiple of 100 since we only record every 100th episode.\"\n",
    "\n",
    "eval_episode_number = int(episode_number / 100 * 8)\n",
    "video_path = f\"./video/reinforce/eval/rl-video-episode-{eval_episode_number}.mp4\"\n",
    "\n",
    "mp4 = open(video_path,'rb').read()\n",
    "data_url = \"data:video/mp4;base64,\" + b64encode(mp4).decode()\n",
    "HTML(\"\"\"\n",
    "<video width=400 controls>\n",
    "      <source src=\"%s\" type=\"video/mp4\">\n",
    "</video>\n",
    "\"\"\" % data_url)"
   ]
  },
  {
   "cell_type": "code",
   "execution_count": 23,
   "metadata": {
    "id": "Wf2J1SvuwDMw"
   },
   "outputs": [],
   "source": []
  }
 ],
 "metadata": {
  "colab": {
   "provenance": []
  },
  "kernelspec": {
   "display_name": "Python 3",
   "name": "python3"
  },
  "language_info": {
   "codemirror_mode": {
    "name": "ipython",
    "version": 3
   },
   "file_extension": ".py",
   "mimetype": "text/x-python",
   "name": "python",
   "nbconvert_exporter": "python",
   "pygments_lexer": "ipython3",
   "version": "3.8.13"
  },
  "vscode": {
   "interpreter": {
    "hash": "0f35138c66f99be0fd7a1210bb4aa94a6fbaa5f29d51ad43aec0e0ea0ff050f0"
   }
  }
 },
 "nbformat": 4,
 "nbformat_minor": 0
}
